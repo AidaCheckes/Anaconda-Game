{
 "cells": [
  {
   "cell_type": "markdown",
   "metadata": {},
   "source": [
    "# Dora the Explorer"
   ]
  },
  {
   "cell_type": "markdown",
   "metadata": {},
   "source": [
    "![Title](img/dora.jpg)"
   ]
  },
  {
   "cell_type": "markdown",
   "metadata": {},
   "source": [
    "Hola, amigos! My name is Dora the Explorer! Today, we are visiting Cyberville! It's a wonderful place where we get to learn about <i>python</i>, <i>data structures</i>, <i>loops</i>, and more! \n",
    "\n",
    "Please join me on my adventure! First, I'm going to need a friend to help me on my journey! I need the help from the fantastic Python module <b>Mr. OS</b>! \n",
    "\n",
    "I'm going to need your help! How do I call <b>Mr. OS</b> to call him? Someone is going to have to <i>import</i> him into Cyberville!\n",
    "\n",
    "In the next cell, please import him!"
   ]
  },
  {
   "cell_type": "code",
   "execution_count": 8,
   "metadata": {},
   "outputs": [],
   "source": [
    "# Can YOU call Mr. OS?\n",
    "# Hint: import os\n"
   ]
  },
  {
   "cell_type": "markdown",
   "metadata": {},
   "source": [
    "If you feel like you have written the code above called him successfully, let's <i><b>run the next line of code</b></i> just to make sure!\n",
    "\n",
    "Hi, Mr. OS! It's me! Dora!"
   ]
  },
  {
   "cell_type": "code",
   "execution_count": 35,
   "metadata": {},
   "outputs": [
    {
     "name": "stdout",
     "output_type": "stream",
     "text": [
      "Why hullo there, Dora!\n",
      "\n"
     ]
    }
   ],
   "source": [
    "# Run this to test your code in the first snippet\n",
    "try:\n",
    "    print(os.popen(\"echo 'Why hullo there, Dora!'\").read())\n",
    "except:\n",
    "    raise Exception(\"He's not here yet! Go back and import him! Remember the 'import' command!\")"
   ]
  },
  {
   "cell_type": "markdown",
   "metadata": {},
   "source": [
    "![Title](img/mros.png)"
   ]
  },
  {
   "cell_type": "markdown",
   "metadata": {},
   "source": [
    "Backpack is getting so tired from carrying <i>too much stuff</i>! Please tell Mr. OS to <b><i> create three new directories</i></b> to help me!\n",
    "\n",
    "Please store them in the same directory as our project. I would like my new directories to be named, <b>\"cybergear\", \"cyberpack\", and \"cyberweapons\"</b>!"
   ]
  },
  {
   "cell_type": "code",
   "execution_count": 20,
   "metadata": {},
   "outputs": [],
   "source": [
    "# Can YOU tell Mr. OS to create the directories \"cybergear\", \"cyberpack\", and \"cyberweapons\"?\n",
    "# Hint: os.mkdir(<name-of-directory>)\n"
   ]
  },
  {
   "cell_type": "markdown",
   "metadata": {},
   "source": [
    "If you think Mr. OS has successfully created them, run the following code so we can see if we can talk to our new friends!"
   ]
  },
  {
   "cell_type": "code",
   "execution_count": 25,
   "metadata": {},
   "outputs": [
    {
     "ename": "Exception",
     "evalue": "I don't see our new friends anywhere!",
     "output_type": "error",
     "traceback": [
      "\u001b[0;31m---------------------------------------------------------------------------\u001b[0m",
      "\u001b[0;31mException\u001b[0m                                 Traceback (most recent call last)",
      "\u001b[0;32m<ipython-input-25-ab2a21e9e178>\u001b[0m in \u001b[0;36m<module>\u001b[0;34m\u001b[0m\n\u001b[1;32m      5\u001b[0m     \u001b[0mprint\u001b[0m\u001b[0;34m(\u001b[0m\u001b[0;34m\"Maravilloso! Welcome, my new friends!\"\u001b[0m\u001b[0;34m)\u001b[0m\u001b[0;34m\u001b[0m\u001b[0;34m\u001b[0m\u001b[0m\n\u001b[1;32m      6\u001b[0m \u001b[0;32melse\u001b[0m\u001b[0;34m:\u001b[0m\u001b[0;34m\u001b[0m\u001b[0;34m\u001b[0m\u001b[0m\n\u001b[0;32m----> 7\u001b[0;31m     \u001b[0;32mraise\u001b[0m \u001b[0mException\u001b[0m\u001b[0;34m(\u001b[0m\u001b[0;34m\"I don't see our new friends anywhere!\"\u001b[0m\u001b[0;34m)\u001b[0m\u001b[0;34m\u001b[0m\u001b[0;34m\u001b[0m\u001b[0m\n\u001b[0m",
      "\u001b[0;31mException\u001b[0m: I don't see our new friends anywhere!"
     ]
    }
   ],
   "source": [
    "# Run this code to test that you have created the three files\n",
    "cybergear_is_directory = os.path.isdir(\"cybergear\")\n",
    "cyberpack_is_directory = os.path.isdir(\"cyberpack\")\n",
    "cyberweapons_is_directory = os.path.isdir(\"cyberweapons\")\n",
    "if (cybergear_is_directory and cyberpack_is_directory and cyberweapons_is_directory):\n",
    "    print(\"Maravilloso! Welcome, my new friends!\")\n",
    "else:\n",
    "    raise Exception(\"I don't see our new friends anywhere!\")"
   ]
  },
  {
   "cell_type": "markdown",
   "metadata": {},
   "source": [
    "![Title](img/cyberdirs.png)"
   ]
  },
  {
   "cell_type": "markdown",
   "metadata": {},
   "source": [
    "Alright! We are going out on an adventure now! Before you run into danger too quickly, remember! When you want to see all your items in any of our friends, \"cyberpack\", \"cybergear\", or \"cyberweapons\", run the <b>listdir</b> command on them to see."
   ]
  },
  {
   "cell_type": "code",
   "execution_count": 34,
   "metadata": {},
   "outputs": [
    {
     "name": "stdout",
     "output_type": "stream",
     "text": [
      "[]\n"
     ]
    }
   ],
   "source": [
    "# Run the following command to see all your items in cyberpack\n",
    "items_in_cyberweapons = os.listdir(\"cyberweapons\")\n",
    "print(items_in_cyberweapons)"
   ]
  },
  {
   "cell_type": "markdown",
   "metadata": {},
   "source": [
    "Aww... It looks like cyberpack is empty right now. How about we populate her with some lethal weapons? Use os.system() and the <i>touch command in bash</i> to create a file named \"Virus.txt\". "
   ]
  },
  {
   "cell_type": "code",
   "execution_count": 40,
   "metadata": {},
   "outputs": [],
   "source": [
    "# Can YOU create some files in the cyberweapons directory?\n",
    "# hint: Use the os.system() command\n"
   ]
  },
  {
   "cell_type": "markdown",
   "metadata": {},
   "source": [
    "Once you are finished writing and executing the code, let's test it out if it was successful below:"
   ]
  },
  {
   "cell_type": "code",
   "execution_count": 42,
   "metadata": {},
   "outputs": [
    {
     "name": "stdout",
     "output_type": "stream",
     "text": [
      "Yay! We have a Virus weapon!\n",
      "['something', 'Virus.txt']\n"
     ]
    }
   ],
   "source": [
    "# Run this to test your code from In[7]\n",
    "items_in_cyberweapons = os.listdir(\"cyberweapons\")\n",
    "if \"Virus.txt\" in items_in_cyberweapons:\n",
    "    print(\"Yay! We have a Virus.txt weapon!\")\n",
    "elif len(items_in_cyberweapons) == 0:\n",
    "    raise Exception(\"The directory cyberweapons is still empty!\")\n",
    "else:\n",
    "    raise Exception(\"I'm glad we have weapons, but we need a weapon named Virus for this to work!\")\n",
    "print(items_in_cyberweapons)"
   ]
  },
  {
   "cell_type": "markdown",
   "metadata": {},
   "source": [
    "Let's write some stuff in the Virus.txt file. Let's have it contain the following contents:\n",
    "\n",
    "<i>YOU HAVE BEEN INFECTED</i>\n",
    "\n",
    "Could you please open the file and write the contents to it?"
   ]
  },
  {
   "cell_type": "code",
   "execution_count": null,
   "metadata": {},
   "outputs": [],
   "source": [
    "# Write \"YOU HAVE BEEN INFECTED\" into the file contents of cyberweapons/Virus\n",
    "# hint: open(<name-of-file>, <permissions>)\n"
   ]
  },
  {
   "cell_type": "markdown",
   "metadata": {},
   "source": [
    "If you are finished writing and running the code, check your work by running the following code below:"
   ]
  },
  {
   "cell_type": "code",
   "execution_count": 43,
   "metadata": {},
   "outputs": [
    {
     "name": "stdout",
     "output_type": "stream",
     "text": [
      "This looks great!\n"
     ]
    }
   ],
   "source": [
    "# Test to see if the above coding snippet successfully\n",
    "fn = \"cyberweapons/Virus.txt\"\n",
    "file = open(fn, 'r')\n",
    "virus_contents = file.read()\n",
    "if virus_contents == \"YOU HAVE BEEN INFECTED\":\n",
    "    print(\"This looks great!\")\n",
    "else:\n",
    "    raise Exception(\"Please go back, and make sure everything is spelled right!\")"
   ]
  },
  {
   "cell_type": "markdown",
   "metadata": {},
   "source": [
    "After you have populated the Virus.txt file correctly, please run the following snippet of code. It will give you a list of things that we need in the <b>cybergear</b> directory. "
   ]
  },
  {
   "cell_type": "code",
   "execution_count": 45,
   "metadata": {},
   "outputs": [],
   "source": [
    "# Run the following code to initialize cybergear contents\n",
    "cybergear_contents = [\"cyberwatch\", \"cyberflashlight\", \"cyberswitch\", \n",
    "                      \"cyberrouter\", \"cybercable\", \"cyberutilitybelt\"]"
   ]
  },
  {
   "cell_type": "markdown",
   "metadata": {},
   "source": [
    "Using a for loop, use the list above to create files of the same names in the cybergear directory."
   ]
  },
  {
   "cell_type": "code",
   "execution_count": null,
   "metadata": {},
   "outputs": [],
   "source": [
    "# for each item in cybergear_contents, \n",
    "# create files of the same name in the cybergear directory\n"
   ]
  }
 ],
 "metadata": {
  "kernelspec": {
   "display_name": "Python 3",
   "language": "python",
   "name": "python3"
  },
  "language_info": {
   "codemirror_mode": {
    "name": "ipython",
    "version": 3
   },
   "file_extension": ".py",
   "mimetype": "text/x-python",
   "name": "python",
   "nbconvert_exporter": "python",
   "pygments_lexer": "ipython3",
   "version": "3.7.4"
  }
 },
 "nbformat": 4,
 "nbformat_minor": 2
}
